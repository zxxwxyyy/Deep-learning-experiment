{
 "cells": [
  {
   "cell_type": "markdown",
   "id": "986a5396-fd65-435d-9112-74724fbabf2f",
   "metadata": {
    "id": "986a5396-fd65-435d-9112-74724fbabf2f"
   },
   "source": [
    "# Experiment with Generative Adversarial Network(GAN)"
   ]
  },
  {
   "cell_type": "markdown",
   "id": "baf3b0a0-9828-4b07-a1f9-075cc671fc7d",
   "metadata": {
    "id": "baf3b0a0-9828-4b07-a1f9-075cc671fc7d"
   },
   "source": [
    "In this notebook, you will find me running series of experiment on GAN, see how we can control the contents that GAN generated"
   ]
  },
  {
   "cell_type": "code",
   "execution_count": 3,
   "id": "KfghhYWLtP1S",
   "metadata": {
    "colab": {
     "base_uri": "https://localhost:8080/"
    },
    "id": "KfghhYWLtP1S",
    "outputId": "443411a2-3772-44c0-e6b4-8358f0cbc573"
   },
   "outputs": [
    {
     "name": "stdout",
     "output_type": "stream",
     "text": [
      "Mounted at /content/drive\n"
     ]
    }
   ],
   "source": [
    "from google.colab import drive\n",
    "drive.mount('/content/drive')"
   ]
  },
  {
   "cell_type": "code",
   "execution_count": 1,
   "id": "1adc37f4-d212-4acc-9eb9-8c557717b022",
   "metadata": {
    "id": "1adc37f4-d212-4acc-9eb9-8c557717b022",
    "tags": []
   },
   "outputs": [],
   "source": [
    "import tensorflow as tf\n",
    "import numpy as np\n",
    "from tensorflow.keras.preprocessing.image import ImageDataGenerator\n",
    "import matplotlib.pyplot as plt\n",
    "import time\n",
    "from IPython import display\n",
    "from tensorflow.keras import layers"
   ]
  },
  {
   "cell_type": "code",
   "execution_count": 2,
   "id": "f605ad3d-142d-4d3e-8cc8-d50fafbcc066",
   "metadata": {
    "colab": {
     "base_uri": "https://localhost:8080/"
    },
    "id": "f605ad3d-142d-4d3e-8cc8-d50fafbcc066",
    "outputId": "f47910a5-b2df-4f41-fa15-0314a7a917c6",
    "tags": []
   },
   "outputs": [
    {
     "data": {
      "text/plain": [
       "[PhysicalDevice(name='/physical_device:GPU:0', device_type='GPU')]"
      ]
     },
     "execution_count": 2,
     "metadata": {},
     "output_type": "execute_result"
    }
   ],
   "source": [
    "gpus = tf.config.experimental.list_physical_devices('GPU')\n",
    "if gpus:\n",
    "  try:\n",
    "    for gpu in gpus:\n",
    "      tf.config.experimental.set_memory_growth(gpu, False)\n",
    "  except RuntimeError as e:\n",
    "    print(e)\n",
    "tf.config.list_physical_devices('GPU')"
   ]
  },
  {
   "cell_type": "markdown",
   "id": "e7ec7814-1c8f-4099-ab93-f6919c1a86e9",
   "metadata": {
    "id": "e7ec7814-1c8f-4099-ab93-f6919c1a86e9"
   },
   "source": [
    "## Get the datas ready"
   ]
  },
  {
   "cell_type": "code",
   "execution_count": 9,
   "id": "L2RKC3MqusbB",
   "metadata": {
    "colab": {
     "base_uri": "https://localhost:8080/"
    },
    "id": "L2RKC3MqusbB",
    "outputId": "1497e2a9-6422-47df-a2ab-9f90f5e33385"
   },
   "outputs": [
    {
     "name": "stdout",
     "output_type": "stream",
     "text": [
      "Looking in indexes: https://pypi.org/simple, https://us-python.pkg.dev/colab-wheels/public/simple/\n",
      "Collecting patool\n",
      "  Downloading patool-1.12-py2.py3-none-any.whl (77 kB)\n",
      "\u001b[2K     \u001b[90m━━━━━━━━━━━━━━━━━━━━━━━━━━━━━━━━━━━━━━━━\u001b[0m \u001b[32m77.5/77.5 KB\u001b[0m \u001b[31m8.8 MB/s\u001b[0m eta \u001b[36m0:00:00\u001b[0m\n",
      "\u001b[?25hInstalling collected packages: patool\n",
      "Successfully installed patool-1.12\n"
     ]
    }
   ],
   "source": [
    "!pip install patool"
   ]
  },
  {
   "cell_type": "code",
   "execution_count": 10,
   "id": "tGweSlXYtt2x",
   "metadata": {
    "colab": {
     "base_uri": "https://localhost:8080/",
     "height": 90
    },
    "id": "tGweSlXYtt2x",
    "outputId": "7e3127ca-7367-46dd-842b-1bcc5cf0f6e5"
   },
   "outputs": [
    {
     "name": "stdout",
     "output_type": "stream",
     "text": [
      "patool: Extracting /content/drive/MyDrive/imaterialist-fashion-2019-FGVC6.7z ...\n",
      "patool: running /usr/bin/7z x -o/content -- /content/drive/MyDrive/imaterialist-fashion-2019-FGVC6.7z\n",
      "patool: ... /content/drive/MyDrive/imaterialist-fashion-2019-FGVC6.7z extracted to `/content'.\n"
     ]
    },
    {
     "data": {
      "application/vnd.google.colaboratory.intrinsic+json": {
       "type": "string"
      },
      "text/plain": [
       "'/content'"
      ]
     },
     "execution_count": 10,
     "metadata": {},
     "output_type": "execute_result"
    }
   ],
   "source": [
    "import patoolib\n",
    "patoolib.extract_archive(\"/content/drive/MyDrive/imaterialist-fashion-2019-FGVC6.7z\",outdir=\"/content\")"
   ]
  },
  {
   "cell_type": "code",
   "execution_count": 8,
   "id": "19881fd8-723c-4024-b491-e729b63403d1",
   "metadata": {
    "id": "19881fd8-723c-4024-b491-e729b63403d1",
    "tags": []
   },
   "outputs": [],
   "source": [
    "train_dir = '/content/imaterialist-fashion-2019-FGVC6/'"
   ]
  },
  {
   "cell_type": "code",
   "execution_count": null,
   "id": "a9af1745-b378-4191-bf10-b7e0787d4e42",
   "metadata": {
    "id": "a9af1745-b378-4191-bf10-b7e0787d4e42",
    "outputId": "2d4386a3-f43a-479c-cbeb-8bbd9e5828f0",
    "tags": []
   },
   "outputs": [
    {
     "name": "stdout",
     "output_type": "stream",
     "text": [
      "Found 48388 images belonging to 2 classes.\n"
     ]
    }
   ],
   "source": [
    "train_datagen = ImageDataGenerator(rescale=1./127.5)\n",
    "train_data = train_datagen.flow_from_directory(directory=train_dir,\n",
    "                        batch_size=32,\n",
    "                        target_size=(28,28),\n",
    "                        class_mode='binary',\n",
    "                        color_mode='grayscale',\n",
    "                        seed=42)"
   ]
  },
  {
   "cell_type": "markdown",
   "id": "1585836b-c3fe-41f2-b852-f00895077b3f",
   "metadata": {
    "id": "1585836b-c3fe-41f2-b852-f00895077b3f"
   },
   "source": [
    "Getting all x_train out from the dataset"
   ]
  },
  {
   "cell_type": "code",
   "execution_count": null,
   "id": "84fe6138-1eb1-440d-b78d-beb972192539",
   "metadata": {
    "id": "84fe6138-1eb1-440d-b78d-beb972192539",
    "tags": []
   },
   "outputs": [],
   "source": [
    "x_train = []\n",
    "for i in range(len(train_data)):\n",
    "    batch = train_data[i][0]\n",
    "    batch_normalized = (batch / 127.5) - 1\n",
    "    x_train.append(batch_normalized)\n",
    "x_train = np.concatenate(x_train, axis=0)"
   ]
  },
  {
   "cell_type": "code",
   "execution_count": null,
   "id": "008881d4-46ab-4f43-88c9-adf08ce6c71e",
   "metadata": {
    "id": "008881d4-46ab-4f43-88c9-adf08ce6c71e",
    "outputId": "d6e1c608-a4de-4036-cc7f-33b526c369d2",
    "tags": []
   },
   "outputs": [
    {
     "data": {
      "text/plain": [
       "(48388, 28, 28, 1)"
      ]
     },
     "execution_count": 7,
     "metadata": {},
     "output_type": "execute_result"
    }
   ],
   "source": [
    "x_train.shape"
   ]
  },
  {
   "cell_type": "code",
   "execution_count": 16,
   "id": "9db190a7-32b6-4c45-a808-b3929c569e5b",
   "metadata": {
    "id": "9db190a7-32b6-4c45-a808-b3929c569e5b",
    "tags": []
   },
   "outputs": [],
   "source": [
    "BUFFER_SIZE = 60000\n",
    "BATCH_SIZE = 256"
   ]
  },
  {
   "cell_type": "code",
   "execution_count": null,
   "id": "80cd9acb-6e1d-4f89-bee1-266edf10f4fe",
   "metadata": {
    "id": "80cd9acb-6e1d-4f89-bee1-266edf10f4fe",
    "tags": []
   },
   "outputs": [],
   "source": [
    "train_ds = tf.data.Dataset.from_tensor_slices(x_train).shuffle(BUFFER_SIZE).batch(BATCH_SIZE)\n",
    "train_ds = train_ds.prefetch(tf.data.AUTOTUNE)"
   ]
  },
  {
   "cell_type": "markdown",
   "id": "2188739e-f355-4367-b767-55c87b3fbb10",
   "metadata": {
    "id": "2188739e-f355-4367-b767-55c87b3fbb10",
    "tags": []
   },
   "source": [
    "## Build GAN model(OUTPUT Unsatisfied)"
   ]
  },
  {
   "cell_type": "markdown",
   "id": "0e92e055-7564-4376-a3b9-61fff90f2a9a",
   "metadata": {
    "id": "0e92e055-7564-4376-a3b9-61fff90f2a9a",
    "tags": []
   },
   "source": [
    "### Build the generator"
   ]
  },
  {
   "cell_type": "code",
   "execution_count": null,
   "id": "5183d486-c45c-45a0-9a24-2df04b56b1c5",
   "metadata": {
    "id": "5183d486-c45c-45a0-9a24-2df04b56b1c5",
    "tags": []
   },
   "outputs": [],
   "source": [
    "def build_generator(): \n",
    "    model = tf.keras.Sequential()\n",
    "    # The model will first take 100 sample from the input shape, and it expand it into 7x7x256 dimension\n",
    "    # and it has the feature of shape (7, 7, 256 now)\n",
    "    model.add(layers.Dense(7*7*256, use_bias=False, input_shape=(100,))) \n",
    "    # Batch normalization applies a transformation that maintains the mean output close to 0 and the output standard deviation close to 1.\n",
    "    model.add(layers.BatchNormalization())\n",
    "    model.add(layers.LeakyReLU()) # Leaky relu can return negative numbers\n",
    "    \n",
    "    model.add(layers.Reshape((7, 7, 256)))\n",
    "    # Check if the model output are true, if not the function will error out\n",
    "    assert model.output_shape == (None, 7, 7, 256) # None is the batch size \n",
    "    \n",
    "    model.add(layers.Conv2DTranspose(128, (5, 5), strides=(1,1), padding='same', use_bias=False))\n",
    "    # Check the output shape of previous layer\n",
    "    assert model.output_shape == (None, 7, 7, 128)\n",
    "    model.add(layers.BatchNormalization())\n",
    "    model.add(layers.LeakyReLU()) # Leaky relu can return negative numbers\n",
    "    \n",
    "    model.add(layers.Conv2DTranspose(64, (5, 5), strides=(2, 2), padding='same', use_bias=False))\n",
    "    assert model.output_shape == (None, 14, 14, 64)\n",
    "    model.add(layers.BatchNormalization())\n",
    "    model.add(layers.LeakyReLU())\n",
    "    \n",
    "    # minimalize the size of the output until it output a images\n",
    "    model.add(layers.Conv2DTranspose(1, (5, 5), strides=(2, 2), padding='same', use_bias=False, activation='tanh'))\n",
    "    assert model.output_shape == (None, 28, 28, 1)\n",
    "    \n",
    "    return model"
   ]
  },
  {
   "cell_type": "markdown",
   "id": "4529e151-ce05-4e5e-ba56-16b0f0cb383c",
   "metadata": {
    "id": "4529e151-ce05-4e5e-ba56-16b0f0cb383c"
   },
   "source": [
    "Try to get an image with the untrained generator"
   ]
  },
  {
   "cell_type": "code",
   "execution_count": null,
   "id": "fb2d1e9a-cf21-43bb-be05-5931e2e7f2f3",
   "metadata": {
    "id": "fb2d1e9a-cf21-43bb-be05-5931e2e7f2f3",
    "outputId": "64e78228-2029-49d0-8e1d-76aa55965896",
    "tags": []
   },
   "outputs": [
    {
     "data": {
      "text/plain": [
       "<matplotlib.image.AxesImage at 0x14da96cac10>"
      ]
     },
     "execution_count": 13,
     "metadata": {},
     "output_type": "execute_result"
    },
    {
     "data": {
      "image/png": "[encoded data removed]",
      "text/plain": [
       "<Figure size 640x480 with 1 Axes>"
      ]
     },
     "metadata": {},
     "output_type": "display_data"
    }
   ],
   "source": [
    "generator = build_generator()\n",
    "noise = tf.random.normal([1, 100])\n",
    "generated_image = generator(noise, training=False)\n",
    "plt.imshow(generated_image[0])"
   ]
  },
  {
   "cell_type": "code",
   "execution_count": null,
   "id": "9222c789-5ea9-492a-b670-4a48f159cb7a",
   "metadata": {
    "id": "9222c789-5ea9-492a-b670-4a48f159cb7a",
    "outputId": "ac1c6446-cbdf-4460-addc-2790355587df",
    "tags": []
   },
   "outputs": [
    {
     "name": "stdout",
     "output_type": "stream",
     "text": [
      "Model: \"sequential_1\"\n",
      "_________________________________________________________________\n",
      " Layer (type)                Output Shape              Param #   \n",
      "=================================================================\n",
      " dense (Dense)               (None, 12544)             1254400   \n",
      "                                                                 \n",
      " batch_normalization (BatchN  (None, 12544)            50176     \n",
      " ormalization)                                                   \n",
      "                                                                 \n",
      " leaky_re_lu (LeakyReLU)     (None, 12544)             0         \n",
      "                                                                 \n",
      " reshape (Reshape)           (None, 7, 7, 256)         0         \n",
      "                                                                 \n",
      " conv2d_transpose (Conv2DTra  (None, 7, 7, 128)        819200    \n",
      " nspose)                                                         \n",
      "                                                                 \n",
      " batch_normalization_1 (Batc  (None, 7, 7, 128)        512       \n",
      " hNormalization)                                                 \n",
      "                                                                 \n",
      " leaky_re_lu_1 (LeakyReLU)   (None, 7, 7, 128)         0         \n",
      "                                                                 \n",
      " conv2d_transpose_1 (Conv2DT  (None, 14, 14, 64)       204800    \n",
      " ranspose)                                                       \n",
      "                                                                 \n",
      " batch_normalization_2 (Batc  (None, 14, 14, 64)       256       \n",
      " hNormalization)                                                 \n",
      "                                                                 \n",
      " leaky_re_lu_2 (LeakyReLU)   (None, 14, 14, 64)        0         \n",
      "                                                                 \n",
      " conv2d_transpose_2 (Conv2DT  (None, 28, 28, 1)        1600      \n",
      " ranspose)                                                       \n",
      "                                                                 \n",
      "=================================================================\n",
      "Total params: 2,330,944\n",
      "Trainable params: 2,305,472\n",
      "Non-trainable params: 25,472\n",
      "_________________________________________________________________\n"
     ]
    }
   ],
   "source": [
    "generator.summary()"
   ]
  },
  {
   "cell_type": "markdown",
   "id": "02692fc7-0d44-4543-995e-879b3f50af1b",
   "metadata": {
    "id": "02692fc7-0d44-4543-995e-879b3f50af1b"
   },
   "source": [
    "### Build the discriminator"
   ]
  },
  {
   "cell_type": "code",
   "execution_count": null,
   "id": "6c2b8531-180c-40ea-abcc-e6c4d9477514",
   "metadata": {
    "id": "6c2b8531-180c-40ea-abcc-e6c4d9477514",
    "tags": []
   },
   "outputs": [],
   "source": [
    "def build_discriminator():\n",
    "    model = tf.keras.Sequential()\n",
    "    model.add(layers.Conv2D(64, (5, 5), strides=(2, 2), padding='same', input_shape=[28, 28, 1]))\n",
    "    \n",
    "    model.add(layers.LeakyReLU())\n",
    "    model.add(layers.Dropout(0.3))\n",
    "    \n",
    "    model.add(layers.Conv2D(128, (5, 5), strides=(2, 2), padding='same'))\n",
    "    model.add(layers.LeakyReLU())\n",
    "    model.add(layers.Dropout(0.3))\n",
    "    \n",
    "    model.add(layers.Flatten())\n",
    "    model.add(layers.Dense(1))\n",
    "    \n",
    "    return model"
   ]
  },
  {
   "cell_type": "markdown",
   "id": "70532cfb-dc70-4e55-8802-91332c3f3586",
   "metadata": {
    "id": "70532cfb-dc70-4e55-8802-91332c3f3586",
    "tags": []
   },
   "source": [
    "Use the (as yet untrained) discriminator to classify the generated images as real or fake. The model will be trained to output positive values for real images, and negative values for fake images."
   ]
  },
  {
   "cell_type": "code",
   "execution_count": null,
   "id": "591b7273-7460-48cf-84e5-066570f9f100",
   "metadata": {
    "id": "591b7273-7460-48cf-84e5-066570f9f100",
    "outputId": "97ddb12a-1899-4f44-cc40-45a16ee7c89f",
    "tags": []
   },
   "outputs": [
    {
     "name": "stdout",
     "output_type": "stream",
     "text": [
      "tf.Tensor([[0.00098535]], shape=(1, 1), dtype=float32)\n"
     ]
    }
   ],
   "source": [
    "discriminator = build_discriminator()\n",
    "decision = discriminator(generated_image)\n",
    "print(decision)"
   ]
  },
  {
   "cell_type": "markdown",
   "id": "78c7008c-22fe-4f32-abaa-a1a08e1b4471",
   "metadata": {
    "id": "78c7008c-22fe-4f32-abaa-a1a08e1b4471"
   },
   "source": [
    "### Define loss and optimizers"
   ]
  },
  {
   "cell_type": "code",
   "execution_count": null,
   "id": "54f059d1-4d4c-43b5-8aa0-0b84987efe51",
   "metadata": {
    "id": "54f059d1-4d4c-43b5-8aa0-0b84987efe51",
    "tags": []
   },
   "outputs": [],
   "source": [
    "cross_entropy = tf.keras.losses.BinaryCrossentropy(from_logits=True)"
   ]
  },
  {
   "cell_type": "markdown",
   "id": "63215875-58a0-438d-959a-2010176daae4",
   "metadata": {
    "id": "63215875-58a0-438d-959a-2010176daae4"
   },
   "source": [
    "Discriminator loss"
   ]
  },
  {
   "cell_type": "code",
   "execution_count": null,
   "id": "c9b2ebb7-2ce4-438b-a829-ac0acacfcf8d",
   "metadata": {
    "id": "c9b2ebb7-2ce4-438b-a829-ac0acacfcf8d",
    "tags": []
   },
   "outputs": [],
   "source": [
    "def discriminator_loss(real_output, fake_output):\n",
    "    real_loss = cross_entropy(tf.ones_like(real_output), real_output)\n",
    "    fake_loss = cross_entropy(tf.zeros_like(fake_output), fake_output)\n",
    "    total_loss = real_loss + fake_loss\n",
    "    return total_loss"
   ]
  },
  {
   "cell_type": "markdown",
   "id": "bb6e054f-0734-4b57-8ac6-eab51fdab915",
   "metadata": {
    "id": "bb6e054f-0734-4b57-8ac6-eab51fdab915"
   },
   "source": [
    "Generator loss"
   ]
  },
  {
   "cell_type": "code",
   "execution_count": null,
   "id": "42f21846-8421-49c0-9355-aa6afb633a7f",
   "metadata": {
    "id": "42f21846-8421-49c0-9355-aa6afb633a7f",
    "tags": []
   },
   "outputs": [],
   "source": [
    "def generator_loss(fake_output):\n",
    "    return cross_entropy(tf.ones_like(fake_output), fake_output)"
   ]
  },
  {
   "cell_type": "code",
   "execution_count": null,
   "id": "c03a312b-a0a6-4b42-9a1d-c133ab567d3a",
   "metadata": {
    "id": "c03a312b-a0a6-4b42-9a1d-c133ab567d3a",
    "tags": []
   },
   "outputs": [],
   "source": [
    "generator_optimizer = tf.keras.optimizers.Adam(1e-9)\n",
    "discriminator_optimizer = tf.keras.optimizers.Adam(1e-6)"
   ]
  },
  {
   "cell_type": "markdown",
   "id": "ae54da59-b434-4f56-8fa5-fadeba72c893",
   "metadata": {
    "id": "ae54da59-b434-4f56-8fa5-fadeba72c893"
   },
   "source": [
    "### Getting ready to train the model"
   ]
  },
  {
   "cell_type": "code",
   "execution_count": null,
   "id": "6e1cb4e9-3458-4ded-a4e3-a5fd9e195a73",
   "metadata": {
    "id": "6e1cb4e9-3458-4ded-a4e3-a5fd9e195a73",
    "tags": []
   },
   "outputs": [],
   "source": [
    "import os\n",
    "checkpoint_dir = './generation_model/training_checkpoints'\n",
    "checkpoint_prefix = os.path.join(checkpoint_dir, \"ckpt\")\n",
    "checkpoint = tf.train.Checkpoint(generator_optimizer=generator_optimizer,\n",
    "                                 discriminator_optimizer=discriminator_optimizer,\n",
    "                                 generator=generator,\n",
    "                                 discriminator=discriminator)"
   ]
  },
  {
   "cell_type": "code",
   "execution_count": null,
   "id": "e7e4b140-165c-4974-9ed8-5c2dde5437c0",
   "metadata": {
    "id": "e7e4b140-165c-4974-9ed8-5c2dde5437c0",
    "tags": []
   },
   "outputs": [],
   "source": [
    "EPOCHS = 100\n",
    "noise_dim = 100\n",
    "num_examples_to_generate = 8\n",
    "\n",
    "seed = tf.random.normal([num_examples_to_generate, noise_dim])"
   ]
  },
  {
   "cell_type": "code",
   "execution_count": null,
   "id": "5ae02647-9efa-401b-b655-03148298317b",
   "metadata": {
    "id": "5ae02647-9efa-401b-b655-03148298317b",
    "tags": []
   },
   "outputs": [],
   "source": [
    "# This annotation causes the function to be \"compiled\".\n",
    "@tf.function\n",
    "def train_step(images):\n",
    "    noise = tf.random.normal([BATCH_SIZE, noise_dim])\n",
    "\n",
    "    with tf.GradientTape() as gen_tape, tf.GradientTape() as disc_tape:\n",
    "      generated_images = generator(noise, training=True)\n",
    "\n",
    "      real_output = discriminator(images, training=True)\n",
    "      fake_output = discriminator(generated_images, training=True)\n",
    "\n",
    "      gen_loss = generator_loss(fake_output)\n",
    "      disc_loss = discriminator_loss(real_output, fake_output)\n",
    "\n",
    "    gradients_of_generator = gen_tape.gradient(gen_loss, generator.trainable_variables)\n",
    "    gradients_of_discriminator = disc_tape.gradient(disc_loss, discriminator.trainable_variables)\n",
    "\n",
    "    generator_optimizer.apply_gradients(zip(gradients_of_generator, generator.trainable_variables))\n",
    "    discriminator_optimizer.apply_gradients(zip(gradients_of_discriminator, discriminator.trainable_variables))"
   ]
  },
  {
   "cell_type": "code",
   "execution_count": null,
   "id": "52437b8d-7602-4a98-843c-da1214b163c5",
   "metadata": {
    "id": "52437b8d-7602-4a98-843c-da1214b163c5",
    "tags": []
   },
   "outputs": [],
   "source": [
    "def train(dataset, epochs):\n",
    "  for epoch in range(epochs):\n",
    "    start = time.time()\n",
    "\n",
    "    for image_batch in dataset:\n",
    "      train_step(image_batch)\n",
    "\n",
    "    # Produce images for the GIF as you go\n",
    "    display.clear_output(wait=True)\n",
    "    generate_and_save_images(generator,\n",
    "                             epoch + 1,\n",
    "                             seed)\n",
    "\n",
    "    # Save the model every 15 epochs\n",
    "    if (epoch + 1) % 15 == 0:\n",
    "      checkpoint.save(file_prefix = checkpoint_prefix)\n",
    "\n",
    "    print ('Time for epoch {} is {} sec'.format(epoch + 1, time.time()-start))\n",
    "\n",
    "  # Generate after the final epoch\n",
    "  display.clear_output(wait=True)\n",
    "  generate_and_save_images(generator,\n",
    "                           epochs,\n",
    "                           seed)"
   ]
  },
  {
   "cell_type": "code",
   "execution_count": null,
   "id": "5babc4ca-792b-4615-abd8-3d6a20983090",
   "metadata": {
    "id": "5babc4ca-792b-4615-abd8-3d6a20983090",
    "tags": []
   },
   "outputs": [],
   "source": [
    "def generate_and_save_images(model, epoch, test_input):\n",
    "  # Notice `training` is set to False.\n",
    "  # This is so all layers run in inference mode (batchnorm).\n",
    "  predictions = model(test_input, training=False)\n",
    "\n",
    "  fig = plt.figure(figsize=(4, 4))\n",
    "\n",
    "  for i in range(predictions.shape[0]):\n",
    "      plt.subplot(4, 4, i+1)\n",
    "      plt.imshow(predictions[i, :, :, 0] * 127.5 + 127.5, cmap='gray')\n",
    "      plt.axis('off')\n",
    "\n",
    "  plt.savefig('image_at_epoch_{:04d}.png'.format(epoch))\n",
    "  plt.show()"
   ]
  },
  {
   "cell_type": "markdown",
   "id": "632bfff0-8961-42ec-afa3-a8e225fa7357",
   "metadata": {
    "id": "632bfff0-8961-42ec-afa3-a8e225fa7357"
   },
   "source": [
    "### Train the model"
   ]
  },
  {
   "cell_type": "code",
   "execution_count": null,
   "id": "8e0d7033-2678-4a2c-9fca-e147c8e82c34",
   "metadata": {
    "id": "8e0d7033-2678-4a2c-9fca-e147c8e82c34",
    "outputId": "b5f7613d-44d9-4599-9b60-b8d7a25d0969",
    "tags": []
   },
   "outputs": [
    {
     "data": {
      "image/png": "[encoded data removed]",
      "text/plain": [
       "<Figure size 400x400 with 8 Axes>"
      ]
     },
     "metadata": {},
     "output_type": "display_data"
    }
   ],
   "source": [
    "train(train_ds, EPOCHS)"
   ]
  },
  {
   "cell_type": "markdown",
   "id": "7500e4d4-0873-4b98-993e-e664f7a82ce6",
   "metadata": {
    "id": "7500e4d4-0873-4b98-993e-e664f7a82ce6"
   },
   "source": [
    "## Improve GAN\n",
    "Trying to build another GAN with 3 channel inputs and see if it helps"
   ]
  },
  {
   "cell_type": "markdown",
   "id": "8b6ceda3-d316-45ee-97bc-57b97f6dc5ae",
   "metadata": {
    "id": "8b6ceda3-d316-45ee-97bc-57b97f6dc5ae"
   },
   "source": [
    "### Preprocess the data"
   ]
  },
  {
   "cell_type": "code",
   "execution_count": 9,
   "id": "c9382515-8b4f-437a-bc79-3347aa3c78b5",
   "metadata": {
    "colab": {
     "base_uri": "https://localhost:8080/"
    },
    "id": "c9382515-8b4f-437a-bc79-3347aa3c78b5",
    "outputId": "f46f47ef-71b0-451c-e525-862f165fb64e",
    "tags": []
   },
   "outputs": [
    {
     "name": "stdout",
     "output_type": "stream",
     "text": [
      "Found 48388 images belonging to 2 classes.\n"
     ]
    }
   ],
   "source": [
    "train_datagen_updated = ImageDataGenerator(rescale=1./255)\n",
    "train_data_updated = train_datagen_updated.flow_from_directory(directory=train_dir,\n",
    "                        batch_size=32,\n",
    "                        target_size=(64,64),\n",
    "                        class_mode='binary',\n",
    "                        color_mode='rgb',\n",
    "                        seed=42)"
   ]
  },
  {
   "cell_type": "code",
   "execution_count": 10,
   "id": "cd3a7daf-5a94-4234-ae51-902b77ac0a2c",
   "metadata": {
    "id": "cd3a7daf-5a94-4234-ae51-902b77ac0a2c",
    "tags": []
   },
   "outputs": [],
   "source": [
    "x_train_updated = []\n",
    "for i in range(len(train_data_updated)):\n",
    "    batch = train_data_updated[i][0]\n",
    "    x_train_updated.append(batch)\n",
    "x_train_updated = np.concatenate(x_train_updated, axis=0)"
   ]
  },
  {
   "cell_type": "code",
   "execution_count": 12,
   "id": "lzj_nl12J2oG",
   "metadata": {
    "colab": {
     "base_uri": "https://localhost:8080/",
     "height": 406
    },
    "id": "lzj_nl12J2oG",
    "outputId": "f38d8fc2-7272-4bbf-8425-35a6eab28693"
   },
   "outputs": [
    {
     "data": {
      "image/png": "[encoded data removed]",
      "text/plain": [
       "<Figure size 640x480 with 1 Axes>"
      ]
     },
     "metadata": {},
     "output_type": "display_data"
    }
   ],
   "source": [
    "# Randomly plot an image\n",
    "random_idx = np.random.randint(0, x_train_updated.shape[0])\n",
    "plt.imshow(x_train_updated[random_idx])\n",
    "plt.axis('off')\n",
    "plt.show()"
   ]
  },
  {
   "cell_type": "code",
   "execution_count": 14,
   "id": "CCzOTmbHh5kE",
   "metadata": {
    "id": "CCzOTmbHh5kE"
   },
   "outputs": [],
   "source": [
    "BUFFER_SIZE = 60000\n",
    "BATCH_SIZE = 256"
   ]
  },
  {
   "cell_type": "code",
   "execution_count": 15,
   "id": "c45479c4-11f3-4da0-b44b-be0b38ee6d15",
   "metadata": {
    "id": "c45479c4-11f3-4da0-b44b-be0b38ee6d15",
    "tags": []
   },
   "outputs": [],
   "source": [
    "train_ds_updated = tf.data.Dataset.from_tensor_slices(x_train_updated).shuffle(BUFFER_SIZE).batch(BATCH_SIZE)\n",
    "train_ds_updated = train_ds_updated.prefetch(tf.data.AUTOTUNE)"
   ]
  },
  {
   "cell_type": "code",
   "execution_count": 16,
   "id": "57e5d271-b936-4bc4-b00a-679acef54167",
   "metadata": {
    "colab": {
     "base_uri": "https://localhost:8080/"
    },
    "id": "57e5d271-b936-4bc4-b00a-679acef54167",
    "outputId": "d01ef990-cd1b-49c8-a706-20b28da14759",
    "tags": []
   },
   "outputs": [
    {
     "data": {
      "text/plain": [
       "(48388, 64, 64, 3)"
      ]
     },
     "execution_count": 16,
     "metadata": {},
     "output_type": "execute_result"
    }
   ],
   "source": [
    "x_train_updated.shape"
   ]
  },
  {
   "cell_type": "markdown",
   "id": "50c4287d-63a3-4ae1-88dc-bd46957e5316",
   "metadata": {
    "id": "50c4287d-63a3-4ae1-88dc-bd46957e5316"
   },
   "source": [
    "Create the generator"
   ]
  },
  {
   "cell_type": "code",
   "execution_count": 17,
   "id": "38b23fd4-8469-455a-b448-16c7dbe0fb2f",
   "metadata": {
    "colab": {
     "base_uri": "https://localhost:8080/"
    },
    "id": "38b23fd4-8469-455a-b448-16c7dbe0fb2f",
    "outputId": "02f47cb0-d283-4ecb-e40a-efd55fbd4361",
    "scrolled": true,
    "tags": []
   },
   "outputs": [
    {
     "name": "stdout",
     "output_type": "stream",
     "text": [
      "Model: \"sequential\"\n",
      "_________________________________________________________________\n",
      " Layer (type)                Output Shape              Param #   \n",
      "=================================================================\n",
      " dense (Dense)               (None, 32768)             6553600   \n",
      "                                                                 \n",
      " batch_normalization (BatchN  (None, 32768)            131072    \n",
      " ormalization)                                                   \n",
      "                                                                 \n",
      " leaky_re_lu (LeakyReLU)     (None, 32768)             0         \n",
      "                                                                 \n",
      " reshape (Reshape)           (None, 8, 8, 512)         0         \n",
      "                                                                 \n",
      " conv2d_transpose (Conv2DTra  (None, 8, 8, 512)        2359296   \n",
      " nspose)                                                         \n",
      "                                                                 \n",
      " batch_normalization_1 (Batc  (None, 8, 8, 512)        2048      \n",
      " hNormalization)                                                 \n",
      "                                                                 \n",
      " leaky_re_lu_1 (LeakyReLU)   (None, 8, 8, 512)         0         \n",
      "                                                                 \n",
      " conv2d_transpose_1 (Conv2DT  (None, 16, 16, 256)      1179648   \n",
      " ranspose)                                                       \n",
      "                                                                 \n",
      " batch_normalization_2 (Batc  (None, 16, 16, 256)      1024      \n",
      " hNormalization)                                                 \n",
      "                                                                 \n",
      " leaky_re_lu_2 (LeakyReLU)   (None, 16, 16, 256)       0         \n",
      "                                                                 \n",
      " conv2d_transpose_2 (Conv2DT  (None, 32, 32, 64)       147456    \n",
      " ranspose)                                                       \n",
      "                                                                 \n",
      " batch_normalization_3 (Batc  (None, 32, 32, 64)       256       \n",
      " hNormalization)                                                 \n",
      "                                                                 \n",
      " leaky_re_lu_3 (LeakyReLU)   (None, 32, 32, 64)        0         \n",
      "                                                                 \n",
      " conv2d_transpose_3 (Conv2DT  (None, 64, 64, 3)        1728      \n",
      " ranspose)                                                       \n",
      "                                                                 \n",
      "=================================================================\n",
      "Total params: 10,376,128\n",
      "Trainable params: 10,308,928\n",
      "Non-trainable params: 67,200\n",
      "_________________________________________________________________\n"
     ]
    }
   ],
   "source": [
    "def build_generator(): \n",
    "    model = tf.keras.Sequential()\n",
    "    # The model will first take 100 sample from the input shape, and it expand it into 7x7x256 dimension\n",
    "    # and it has the feature of shape (7, 7, 256 now)\n",
    "    model.add(layers.Dense(8*8*512, use_bias=False, input_shape=(200,))) \n",
    "    # Batch normalization applies a transformation that maintains the mean output close to 0 and the output standard deviation close to 1.\n",
    "    model.add(layers.BatchNormalization())\n",
    "    model.add(layers.LeakyReLU()) # Leaky relu can return negative numbers\n",
    "    \n",
    "    model.add(layers.Reshape((8, 8, 512)))\n",
    "    # Check if the model output are true, if not the function will error out\n",
    "    # assert model.output_shape == (None, 8, 8, 512) # None is the batch size \n",
    "    \n",
    "    model.add(layers.Conv2DTranspose(512, (3, 3), strides=(1,1), padding='same', use_bias=False))\n",
    "    # Check the output shape of previous layer\n",
    "    # assert model.output_shape == (None, 8, 8, 512)\n",
    "    model.add(layers.BatchNormalization())\n",
    "    model.add(layers.LeakyReLU()) # Leaky relu can return negative numbers\n",
    "    \n",
    "    model.add(layers.Conv2DTranspose(256, (3, 3), strides=(2, 2), padding='same', use_bias=False))\n",
    "    # assert model.output_shape == (None, 16, 16, 256)\n",
    "    model.add(layers.BatchNormalization())\n",
    "    model.add(layers.LeakyReLU())\n",
    "    \n",
    "    model.add(layers.Conv2DTranspose(64, (3, 3), strides=(2, 2), padding='same', use_bias=False))\n",
    "    # assert model.output_shape == (None, 16, 16, 256)\n",
    "    model.add(layers.BatchNormalization())\n",
    "    model.add(layers.LeakyReLU())\n",
    "    \n",
    "    # minimalize the size of the output until it output a images\n",
    "    model.add(layers.Conv2DTranspose(3, (3, 3), strides=(2, 2), padding='same', use_bias=False, activation='tanh'))\n",
    "    # assert model.output_shape == (None, 64, 64, 3)\n",
    "    \n",
    "    return model\n",
    "\n",
    "model = build_generator()\n",
    "model.summary()"
   ]
  },
  {
   "cell_type": "markdown",
   "id": "ef7ddd5e-6c28-4eb4-8d9e-88d96781bb38",
   "metadata": {
    "id": "ef7ddd5e-6c28-4eb4-8d9e-88d96781bb38",
    "tags": []
   },
   "source": [
    "Create the discriminator"
   ]
  },
  {
   "cell_type": "code",
   "execution_count": 18,
   "id": "18f22a58-721d-4a5e-85ef-6acfb3f7739a",
   "metadata": {
    "colab": {
     "base_uri": "https://localhost:8080/"
    },
    "id": "18f22a58-721d-4a5e-85ef-6acfb3f7739a",
    "outputId": "19a35e1b-39d6-42b3-ea1d-b13a28cf0b7a",
    "scrolled": true,
    "tags": []
   },
   "outputs": [
    {
     "name": "stdout",
     "output_type": "stream",
     "text": [
      "Model: \"sequential_1\"\n",
      "_________________________________________________________________\n",
      " Layer (type)                Output Shape              Param #   \n",
      "=================================================================\n",
      " conv2d (Conv2D)             (None, 64, 64, 64)        1792      \n",
      "                                                                 \n",
      " leaky_re_lu_4 (LeakyReLU)   (None, 64, 64, 64)        0         \n",
      "                                                                 \n",
      " dropout (Dropout)           (None, 64, 64, 64)        0         \n",
      "                                                                 \n",
      " conv2d_1 (Conv2D)           (None, 32, 32, 128)       73856     \n",
      "                                                                 \n",
      " leaky_re_lu_5 (LeakyReLU)   (None, 32, 32, 128)       0         \n",
      "                                                                 \n",
      " dropout_1 (Dropout)         (None, 32, 32, 128)       0         \n",
      "                                                                 \n",
      " conv2d_2 (Conv2D)           (None, 16, 16, 256)       295168    \n",
      "                                                                 \n",
      " leaky_re_lu_6 (LeakyReLU)   (None, 16, 16, 256)       0         \n",
      "                                                                 \n",
      " dropout_2 (Dropout)         (None, 16, 16, 256)       0         \n",
      "                                                                 \n",
      " conv2d_3 (Conv2D)           (None, 8, 8, 512)         1180160   \n",
      "                                                                 \n",
      " leaky_re_lu_7 (LeakyReLU)   (None, 8, 8, 512)         0         \n",
      "                                                                 \n",
      " dropout_3 (Dropout)         (None, 8, 8, 512)         0         \n",
      "                                                                 \n",
      " flatten (Flatten)           (None, 32768)             0         \n",
      "                                                                 \n",
      " dense_1 (Dense)             (None, 1)                 32769     \n",
      "                                                                 \n",
      "=================================================================\n",
      "Total params: 1,583,745\n",
      "Trainable params: 1,583,745\n",
      "Non-trainable params: 0\n",
      "_________________________________________________________________\n"
     ]
    }
   ],
   "source": [
    "def build_discriminator():\n",
    "    model = tf.keras.Sequential()\n",
    "    model.add(layers.Conv2D(64, (3, 3), strides=(1, 1), padding='same', input_shape=[64, 64, 3]))\n",
    "    model.add(layers.LeakyReLU(alpha=0.5))\n",
    "    model.add(layers.Dropout(0.5))\n",
    "    \n",
    "    model.add(layers.Conv2D(128, (3, 3), strides=(2, 2), padding='same'))\n",
    "    model.add(layers.LeakyReLU(alpha=0.5))\n",
    "    model.add(layers.Dropout(0.5))\n",
    "    \n",
    "    model.add(layers.Conv2D(256, (3, 3), strides=(2, 2), padding='same'))\n",
    "    model.add(layers.LeakyReLU(alpha=0.5))\n",
    "    model.add(layers.Dropout(0.5))\n",
    "    \n",
    "    model.add(layers.Conv2D(512, (3, 3), strides=(2, 2), padding='same'))\n",
    "    model.add(layers.LeakyReLU(alpha=0.5))\n",
    "    model.add(layers.Dropout(0.5))\n",
    "    \n",
    "    model.add(layers.Flatten())\n",
    "    model.add(layers.Dense(1))\n",
    "    \n",
    "    return model\n",
    "\n",
    "model = build_discriminator()\n",
    "model.summary()"
   ]
  },
  {
   "cell_type": "code",
   "execution_count": 19,
   "id": "a5a90fff-bebb-4b0b-971f-1c792ea8617d",
   "metadata": {
    "colab": {
     "base_uri": "https://localhost:8080/",
     "height": 488
    },
    "id": "a5a90fff-bebb-4b0b-971f-1c792ea8617d",
    "outputId": "8dc31a4b-8b1a-4074-87e5-56df4ad38bf9",
    "tags": []
   },
   "outputs": [
    {
     "name": "stderr",
     "output_type": "stream",
     "text": [
      "WARNING:matplotlib.image:Clipping input data to the valid range for imshow with RGB data ([0..1] for floats or [0..255] for integers).\n"
     ]
    },
    {
     "data": {
      "text/plain": [
       "<matplotlib.image.AxesImage at 0x7f9b6bfc3040>"
      ]
     },
     "execution_count": 19,
     "metadata": {},
     "output_type": "execute_result"
    },
    {
     "data": {
      "image/png": "[encoded data removed]",
      "text/plain": [
       "<Figure size 640x480 with 1 Axes>"
      ]
     },
     "metadata": {},
     "output_type": "display_data"
    }
   ],
   "source": [
    "generator = build_generator()\n",
    "noise = tf.random.normal([1, 200])\n",
    "generated_image = generator(noise, training=False)\n",
    "plt.imshow(generated_image[0])"
   ]
  },
  {
   "cell_type": "code",
   "execution_count": 20,
   "id": "eb1665e8-e020-45cb-8ee2-385bbc18b101",
   "metadata": {
    "colab": {
     "base_uri": "https://localhost:8080/"
    },
    "id": "eb1665e8-e020-45cb-8ee2-385bbc18b101",
    "outputId": "82194eb0-27c8-444d-aceb-70e737d5fa25",
    "tags": []
   },
   "outputs": [
    {
     "name": "stdout",
     "output_type": "stream",
     "text": [
      "tf.Tensor([[-0.0004854]], shape=(1, 1), dtype=float32)\n"
     ]
    }
   ],
   "source": [
    "discriminator = build_discriminator()\n",
    "decision = discriminator(generated_image)\n",
    "print(decision)"
   ]
  },
  {
   "cell_type": "markdown",
   "id": "534a6b5c-784b-470a-98a7-59ecfb1e63b7",
   "metadata": {
    "id": "534a6b5c-784b-470a-98a7-59ecfb1e63b7"
   },
   "source": [
    "Define loss and optimizers "
   ]
  },
  {
   "cell_type": "code",
   "execution_count": 21,
   "id": "77b80144-32b8-40a6-bb63-5c07030378ca",
   "metadata": {
    "id": "77b80144-32b8-40a6-bb63-5c07030378ca",
    "tags": []
   },
   "outputs": [],
   "source": [
    "cross_entropy = tf.keras.losses.BinaryCrossentropy(from_logits=True)"
   ]
  },
  {
   "cell_type": "code",
   "execution_count": 22,
   "id": "285d11d6-fd50-4ee5-a5e8-0280112fab5f",
   "metadata": {
    "id": "285d11d6-fd50-4ee5-a5e8-0280112fab5f",
    "tags": []
   },
   "outputs": [],
   "source": [
    "def discriminator_loss(real_output, fake_output):\n",
    "    real_loss = cross_entropy(tf.ones_like(real_output), real_output)\n",
    "    fake_loss = cross_entropy(tf.zeros_like(fake_output), fake_output)\n",
    "    total_loss = real_loss + fake_loss\n",
    "    return total_loss"
   ]
  },
  {
   "cell_type": "code",
   "execution_count": 23,
   "id": "0ad3658b-921d-45a9-89e8-2388454f2fb0",
   "metadata": {
    "id": "0ad3658b-921d-45a9-89e8-2388454f2fb0",
    "scrolled": true,
    "tags": []
   },
   "outputs": [],
   "source": [
    "def generator_loss(fake_output):\n",
    "    return cross_entropy(tf.ones_like(fake_output), fake_output)"
   ]
  },
  {
   "cell_type": "code",
   "execution_count": 24,
   "id": "3351666c-d37a-4362-bb2d-17ff7cc44321",
   "metadata": {
    "id": "3351666c-d37a-4362-bb2d-17ff7cc44321",
    "tags": []
   },
   "outputs": [],
   "source": [
    "generator_optimizer = tf.keras.optimizers.Adam(1e-8)\n",
    "discriminator_optimizer = tf.keras.optimizers.Adam(1e-8)"
   ]
  },
  {
   "cell_type": "code",
   "execution_count": 25,
   "id": "cee14110-bce5-4ae9-b0c7-58c04c1eb69e",
   "metadata": {
    "id": "cee14110-bce5-4ae9-b0c7-58c04c1eb69e",
    "tags": []
   },
   "outputs": [],
   "source": [
    "import os\n",
    "\n",
    "checkpoint_dir = './generation_model/training_checkpoints2'\n",
    "checkpoint_prefix = os.path.join(checkpoint_dir, \"ckpt\")\n",
    "checkpoint = tf.train.Checkpoint(generator_optimizer=generator_optimizer,\n",
    "                                 discriminator_optimizer=discriminator_optimizer,\n",
    "                                 generator=generator,\n",
    "                                 discriminator=discriminator)"
   ]
  },
  {
   "cell_type": "code",
   "execution_count": 26,
   "id": "573121dc-c012-41f6-b4e2-46af38b6a7fe",
   "metadata": {
    "id": "573121dc-c012-41f6-b4e2-46af38b6a7fe",
    "tags": []
   },
   "outputs": [],
   "source": [
    "EPOCHS = 100\n",
    "noise_dim = 200\n",
    "num_examples_to_generate = 8\n",
    "\n",
    "seed = tf.random.normal([num_examples_to_generate, noise_dim])"
   ]
  },
  {
   "cell_type": "code",
   "execution_count": 27,
   "id": "cb385746-e38b-43c8-8249-59166d508455",
   "metadata": {
    "id": "cb385746-e38b-43c8-8249-59166d508455",
    "tags": []
   },
   "outputs": [],
   "source": [
    "# This annotation causes the function to be \"compiled\".\n",
    "@tf.function\n",
    "def train_step(images):\n",
    "    noise = tf.random.normal([BATCH_SIZE, noise_dim])\n",
    "\n",
    "    with tf.GradientTape() as gen_tape, tf.GradientTape() as disc_tape:\n",
    "      generated_images = generator(noise, training=True)\n",
    "\n",
    "      real_output = discriminator(images, training=True)\n",
    "      fake_output = discriminator(generated_images, training=True)\n",
    "\n",
    "      gen_loss = generator_loss(fake_output)\n",
    "      disc_loss = discriminator_loss(real_output, fake_output)\n",
    "\n",
    "    gradients_of_generator = gen_tape.gradient(gen_loss, generator.trainable_variables)\n",
    "    gradients_of_discriminator = disc_tape.gradient(disc_loss, discriminator.trainable_variables)\n",
    "\n",
    "    generator_optimizer.apply_gradients(zip(gradients_of_generator, generator.trainable_variables))\n",
    "    discriminator_optimizer.apply_gradients(zip(gradients_of_discriminator, discriminator.trainable_variables))"
   ]
  },
  {
   "cell_type": "code",
   "execution_count": 28,
   "id": "e86d8d77-f184-44f4-ad7c-160c8c7bf6cb",
   "metadata": {
    "id": "e86d8d77-f184-44f4-ad7c-160c8c7bf6cb",
    "tags": []
   },
   "outputs": [],
   "source": [
    "def train(dataset, epochs):\n",
    "  for epoch in range(epochs):\n",
    "    start = time.time()\n",
    "\n",
    "    for image_batch in dataset:\n",
    "      train_step(image_batch)\n",
    "\n",
    "    # Produce images for the GIF as you go\n",
    "    display.clear_output(wait=True)\n",
    "    generate_and_save_images(generator,\n",
    "                             epoch + 1,\n",
    "                             seed)\n",
    "\n",
    "    # Save the model every 15 epochs\n",
    "    if (epoch + 1) % 15 == 0:\n",
    "      checkpoint.save(file_prefix = checkpoint_prefix)\n",
    "\n",
    "    print ('Time for epoch {} is {} sec'.format(epoch + 1, time.time()-start))\n",
    "\n",
    "  # Generate after the final epoch\n",
    "  display.clear_output(wait=True)\n",
    "  generate_and_save_images(generator,\n",
    "                           epochs,\n",
    "                           seed)"
   ]
  },
  {
   "cell_type": "code",
   "execution_count": 29,
   "id": "c512e0fc-a85a-4cca-bb6a-67faaf6ba87d",
   "metadata": {
    "id": "c512e0fc-a85a-4cca-bb6a-67faaf6ba87d",
    "tags": []
   },
   "outputs": [],
   "source": [
    "def generate_and_save_images(model, epoch, test_input):\n",
    "  # Notice `training` is set to False.\n",
    "  # This is so all layers run in inference mode (batchnorm).\n",
    "  predictions = model(test_input, training=False)\n",
    "\n",
    "  fig = plt.figure(figsize=(4, 4))\n",
    "\n",
    "  for i in range(predictions.shape[0]):\n",
    "      plt.subplot(4, 4, i+1)\n",
    "      plt.imshow(predictions[i, :, :, 0] * 127.5 + 127.5, cmap='gray')\n",
    "      plt.axis('off')\n",
    "\n",
    "  plt.savefig('image_at_epoch_{:04d}.png'.format(epoch))\n",
    "  plt.show()"
   ]
  },
  {
   "cell_type": "code",
   "execution_count": null,
   "id": "f105237b-27c2-4337-b59e-be272a07ac61",
   "metadata": {
    "colab": {
     "base_uri": "https://localhost:8080/",
     "height": 202
    },
    "id": "f105237b-27c2-4337-b59e-be272a07ac61",
    "outputId": "f4705951-787a-4ea4-a2af-fe52f348e4a2",
    "tags": []
   },
   "outputs": [
    {
     "data": {
      "image/png": "[encoded data removed]",
      "text/plain": [
       "<Figure size 400x400 with 8 Axes>"
      ]
     },
     "metadata": {},
     "output_type": "display_data"
    },
    {
     "name": "stdout",
     "output_type": "stream",
     "text": [
      "Time for epoch 68 is 111.82730746269226 sec\n"
     ]
    }
   ],
   "source": [
    "train(train_ds_updated, EPOCHS)"
   ]
  }
 ],
 "metadata": {
  "accelerator": "GPU",
  "colab": {
   "provenance": []
  },
  "gpuClass": "standard",
  "kernelspec": {
   "display_name": "Python 3 (ipykernel)",
   "language": "python",
   "name": "python3"
  },
  "language_info": {
   "codemirror_mode": {
    "name": "ipython",
    "version": 3
   },
   "file_extension": ".py",
   "mimetype": "text/x-python",
   "name": "python",
   "nbconvert_exporter": "python",
   "pygments_lexer": "ipython3",
   "version": "3.9.16"
  }
 },
 "nbformat": 4,
 "nbformat_minor": 5
}
